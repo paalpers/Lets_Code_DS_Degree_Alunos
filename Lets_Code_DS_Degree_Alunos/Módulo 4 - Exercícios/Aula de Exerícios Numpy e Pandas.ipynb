{
 "cells": [
  {
   "cell_type": "code",
   "execution_count": 1,
   "metadata": {},
   "outputs": [],
   "source": [
    "import pandas as pd\n",
    "import numpy as np"
   ]
  },
  {
   "cell_type": "code",
   "execution_count": 61,
   "metadata": {},
   "outputs": [],
   "source": [
    "pd.options.display.float_format = '{:,.2f}'.format"
   ]
  },
  {
   "cell_type": "markdown",
   "metadata": {},
   "source": [
    "### Problema 1\n",
    "Vamos praticar gerar matrizes e fazer operações com as linhas e colunas:\n",
    "\n",
    "(a) Crie uma matriz A com as dimensões (5, 4) e elementos aleatórios variando entre 0 e 50, com o 50 incluso;\n",
    "\n",
    "__Dica:__ Utilize as funções `np.random.randint` e `np.reshape`\n",
    "\n",
    "(b) Retorne a média do vetor\n",
    "\n",
    "(c) Retorne os menores valores de cada coluna;\n",
    "\n",
    "(d) Retorne os maiores valores de cada linha."
   ]
  },
  {
   "cell_type": "code",
   "execution_count": 40,
   "metadata": {},
   "outputs": [
    {
     "data": {
      "text/plain": [
       "(array([[42, 24,  3,  8],\n",
       "        [ 0, 21, 19, 10],\n",
       "        [43, 41, 10, 21],\n",
       "        [38, 32, 20, 44],\n",
       "        [29, 39, 14, 26]]),\n",
       " array([[17, 26, 22,  2],\n",
       "        [ 2,  1, 26,  5],\n",
       "        [40, 46, 33, 29],\n",
       "        [42, 24,  7, 43],\n",
       "        [33, 15, 48, 37]]))"
      ]
     },
     "execution_count": 40,
     "metadata": {},
     "output_type": "execute_result"
    }
   ],
   "source": [
    "#A\n",
    "np.random.seed(3)\n",
    "matrix = np.random.randint(0, 51, size=(5, 4))\n",
    "# OU\n",
    "matrix2 = np.random.randint(0, 51, size=20).reshape(5,4)\n",
    "matrix,matrix2"
   ]
  },
  {
   "cell_type": "code",
   "execution_count": 41,
   "metadata": {},
   "outputs": [
    {
     "data": {
      "text/plain": [
       "(24.2, 24.2)"
      ]
     },
     "execution_count": 41,
     "metadata": {},
     "output_type": "execute_result"
    }
   ],
   "source": [
    "#B\n",
    "matrix.mean(),np.mean(matrix)"
   ]
  },
  {
   "cell_type": "code",
   "execution_count": 42,
   "metadata": {},
   "outputs": [
    {
     "data": {
      "text/plain": [
       "array([ 0, 21,  3,  8])"
      ]
     },
     "execution_count": 42,
     "metadata": {},
     "output_type": "execute_result"
    }
   ],
   "source": [
    "#C\n",
    "np.min(matrix, axis=0)"
   ]
  },
  {
   "cell_type": "code",
   "execution_count": 43,
   "metadata": {},
   "outputs": [
    {
     "data": {
      "text/plain": [
       "array([42, 21, 43, 44, 39])"
      ]
     },
     "execution_count": 43,
     "metadata": {},
     "output_type": "execute_result"
    }
   ],
   "source": [
    "#D\n",
    "np.max(matrix, axis=1)"
   ]
  },
  {
   "cell_type": "markdown",
   "metadata": {},
   "source": [
    "### Problema 2\n",
    "\n",
    "Crie um objeto DataFrame que contenha os dados da tabela abaixo, os quais se referem ao peso, altura e idade de cinco pessoas:\n",
    "\n",
    "\n",
    "| Peso (kg) | Altura (cm) | Idade (anos) |\n",
    "|-----------|-------------|--------------|\n",
    "|  47 | 161\t| 31 |\n",
    "|  80 | 170\t| 21 |\n",
    "|  60 | 175\t| 16 |\n",
    "|  90 | 162\t| 28 |\n",
    "| 100 | 185\t| 23 |\n",
    "| 147 | 189 | 32 |\n",
    "\n",
    "Com base no DataFrame criado, realize o que for pedido nos itens abaixo:\n",
    "\n",
    "(a) Visualize apenas os dados da coluna que contém a altura das pessoas;\n",
    "\n",
    "(b) Obtenha a idade média das pessoas;\n",
    "\n",
    "(c) Obtenha os dados das pessoas que estão abaixo da altura média;\n",
    "\n",
    "(d) Crie um nova coluna no DataFrame que contenha o IMC (Índice de Massa Corporal) de cada pessoa;\n",
    "\n",
    "__Obs.:__ A fórmula para o IMC é dada por IMC = Peso/(Altura)² com o peso em kg e a altura em metros.\n",
    "\n",
    "(e) Remova a coluna que contém a idade das pessoas;\n",
    "\n",
    "(f) Crie uma nova coluna chamada Classificação, que contenha a classificação de cada indivíduo, de acordo com o seu IMC. Para isso, consulte a tabela abaixo.\n",
    "\n",
    "| IMC             | Classificação |\n",
    "|-----------------|---------------|\n",
    "Menor que 18,5    | Subpeso |\n",
    "Entre 18,5 e 24,9 | Normal |\n",
    "Entre 25,0 e 29,9 | Sobrepeso |\n",
    "Entre 30,0 e 39,9 | Obesidade Grau I |\n",
    "Maior que 40,0    | Obesidade Grau II |\n",
    "\n",
    "(g) Salve esses dados do DataFrame em um arquivo csv."
   ]
  },
  {
   "cell_type": "code",
   "execution_count": 112,
   "metadata": {},
   "outputs": [
    {
     "data": {
      "text/html": [
       "<div>\n",
       "<style scoped>\n",
       "    .dataframe tbody tr th:only-of-type {\n",
       "        vertical-align: middle;\n",
       "    }\n",
       "\n",
       "    .dataframe tbody tr th {\n",
       "        vertical-align: top;\n",
       "    }\n",
       "\n",
       "    .dataframe thead th {\n",
       "        text-align: right;\n",
       "    }\n",
       "</style>\n",
       "<table border=\"1\" class=\"dataframe\">\n",
       "  <thead>\n",
       "    <tr style=\"text-align: right;\">\n",
       "      <th></th>\n",
       "      <th>Peso (kg)</th>\n",
       "      <th>Altura (cm)</th>\n",
       "      <th>Idade (anos)</th>\n",
       "    </tr>\n",
       "  </thead>\n",
       "  <tbody>\n",
       "    <tr>\n",
       "      <th>0</th>\n",
       "      <td>47</td>\n",
       "      <td>161</td>\n",
       "      <td>31</td>\n",
       "    </tr>\n",
       "    <tr>\n",
       "      <th>1</th>\n",
       "      <td>80</td>\n",
       "      <td>170</td>\n",
       "      <td>21</td>\n",
       "    </tr>\n",
       "    <tr>\n",
       "      <th>2</th>\n",
       "      <td>60</td>\n",
       "      <td>175</td>\n",
       "      <td>16</td>\n",
       "    </tr>\n",
       "    <tr>\n",
       "      <th>3</th>\n",
       "      <td>90</td>\n",
       "      <td>162</td>\n",
       "      <td>28</td>\n",
       "    </tr>\n",
       "    <tr>\n",
       "      <th>4</th>\n",
       "      <td>100</td>\n",
       "      <td>185</td>\n",
       "      <td>23</td>\n",
       "    </tr>\n",
       "    <tr>\n",
       "      <th>5</th>\n",
       "      <td>147</td>\n",
       "      <td>189</td>\n",
       "      <td>32</td>\n",
       "    </tr>\n",
       "  </tbody>\n",
       "</table>\n",
       "</div>"
      ],
      "text/plain": [
       "   Peso (kg)  Altura (cm)  Idade (anos)\n",
       "0         47          161            31\n",
       "1         80          170            21\n",
       "2         60          175            16\n",
       "3         90          162            28\n",
       "4        100          185            23\n",
       "5        147          189            32"
      ]
     },
     "execution_count": 112,
     "metadata": {},
     "output_type": "execute_result"
    }
   ],
   "source": [
    "df_clipboard = pd.read_clipboard()\n",
    "tabela = df_clipboard.copy()\n",
    "tabela"
   ]
  },
  {
   "cell_type": "code",
   "execution_count": 113,
   "metadata": {},
   "outputs": [
    {
     "data": {
      "text/html": [
       "<div>\n",
       "<style scoped>\n",
       "    .dataframe tbody tr th:only-of-type {\n",
       "        vertical-align: middle;\n",
       "    }\n",
       "\n",
       "    .dataframe tbody tr th {\n",
       "        vertical-align: top;\n",
       "    }\n",
       "\n",
       "    .dataframe thead th {\n",
       "        text-align: right;\n",
       "    }\n",
       "</style>\n",
       "<table border=\"1\" class=\"dataframe\">\n",
       "  <thead>\n",
       "    <tr style=\"text-align: right;\">\n",
       "      <th></th>\n",
       "      <th>Altura (cm)</th>\n",
       "    </tr>\n",
       "  </thead>\n",
       "  <tbody>\n",
       "    <tr>\n",
       "      <th>0</th>\n",
       "      <td>161</td>\n",
       "    </tr>\n",
       "    <tr>\n",
       "      <th>1</th>\n",
       "      <td>170</td>\n",
       "    </tr>\n",
       "    <tr>\n",
       "      <th>2</th>\n",
       "      <td>175</td>\n",
       "    </tr>\n",
       "    <tr>\n",
       "      <th>3</th>\n",
       "      <td>162</td>\n",
       "    </tr>\n",
       "    <tr>\n",
       "      <th>4</th>\n",
       "      <td>185</td>\n",
       "    </tr>\n",
       "    <tr>\n",
       "      <th>5</th>\n",
       "      <td>189</td>\n",
       "    </tr>\n",
       "  </tbody>\n",
       "</table>\n",
       "</div>"
      ],
      "text/plain": [
       "   Altura (cm)\n",
       "0          161\n",
       "1          170\n",
       "2          175\n",
       "3          162\n",
       "4          185\n",
       "5          189"
      ]
     },
     "execution_count": 113,
     "metadata": {},
     "output_type": "execute_result"
    }
   ],
   "source": [
    "#A\n",
    "tabela[[\"Altura (cm)\"]]"
   ]
  },
  {
   "cell_type": "code",
   "execution_count": 114,
   "metadata": {},
   "outputs": [
    {
     "data": {
      "text/plain": [
       "Idade (anos)   25.17\n",
       "dtype: float64"
      ]
     },
     "execution_count": 114,
     "metadata": {},
     "output_type": "execute_result"
    }
   ],
   "source": [
    "#B\n",
    "tabela[[\"Idade (anos)\"]].mean()"
   ]
  },
  {
   "cell_type": "code",
   "execution_count": 115,
   "metadata": {},
   "outputs": [
    {
     "data": {
      "text/html": [
       "<div>\n",
       "<style scoped>\n",
       "    .dataframe tbody tr th:only-of-type {\n",
       "        vertical-align: middle;\n",
       "    }\n",
       "\n",
       "    .dataframe tbody tr th {\n",
       "        vertical-align: top;\n",
       "    }\n",
       "\n",
       "    .dataframe thead th {\n",
       "        text-align: right;\n",
       "    }\n",
       "</style>\n",
       "<table border=\"1\" class=\"dataframe\">\n",
       "  <thead>\n",
       "    <tr style=\"text-align: right;\">\n",
       "      <th></th>\n",
       "      <th>Peso (kg)</th>\n",
       "      <th>Altura (cm)</th>\n",
       "      <th>Idade (anos)</th>\n",
       "    </tr>\n",
       "  </thead>\n",
       "  <tbody>\n",
       "    <tr>\n",
       "      <th>0</th>\n",
       "      <td>47</td>\n",
       "      <td>161</td>\n",
       "      <td>31</td>\n",
       "    </tr>\n",
       "    <tr>\n",
       "      <th>1</th>\n",
       "      <td>80</td>\n",
       "      <td>170</td>\n",
       "      <td>21</td>\n",
       "    </tr>\n",
       "    <tr>\n",
       "      <th>3</th>\n",
       "      <td>90</td>\n",
       "      <td>162</td>\n",
       "      <td>28</td>\n",
       "    </tr>\n",
       "  </tbody>\n",
       "</table>\n",
       "</div>"
      ],
      "text/plain": [
       "   Peso (kg)  Altura (cm)  Idade (anos)\n",
       "0         47          161            31\n",
       "1         80          170            21\n",
       "3         90          162            28"
      ]
     },
     "execution_count": 115,
     "metadata": {},
     "output_type": "execute_result"
    }
   ],
   "source": [
    "#C\n",
    "filtro = tabela[\"Altura (cm)\"].mean()\n",
    "tabela[tabela[\"Altura (cm)\"] < filtro]"
   ]
  },
  {
   "cell_type": "code",
   "execution_count": 116,
   "metadata": {},
   "outputs": [
    {
     "data": {
      "text/html": [
       "<div>\n",
       "<style scoped>\n",
       "    .dataframe tbody tr th:only-of-type {\n",
       "        vertical-align: middle;\n",
       "    }\n",
       "\n",
       "    .dataframe tbody tr th {\n",
       "        vertical-align: top;\n",
       "    }\n",
       "\n",
       "    .dataframe thead th {\n",
       "        text-align: right;\n",
       "    }\n",
       "</style>\n",
       "<table border=\"1\" class=\"dataframe\">\n",
       "  <thead>\n",
       "    <tr style=\"text-align: right;\">\n",
       "      <th></th>\n",
       "      <th>Peso (kg)</th>\n",
       "      <th>Altura (cm)</th>\n",
       "      <th>Idade (anos)</th>\n",
       "    </tr>\n",
       "  </thead>\n",
       "  <tbody>\n",
       "    <tr>\n",
       "      <th>0</th>\n",
       "      <td>47</td>\n",
       "      <td>161</td>\n",
       "      <td>31</td>\n",
       "    </tr>\n",
       "    <tr>\n",
       "      <th>1</th>\n",
       "      <td>80</td>\n",
       "      <td>170</td>\n",
       "      <td>21</td>\n",
       "    </tr>\n",
       "    <tr>\n",
       "      <th>2</th>\n",
       "      <td>60</td>\n",
       "      <td>175</td>\n",
       "      <td>16</td>\n",
       "    </tr>\n",
       "    <tr>\n",
       "      <th>3</th>\n",
       "      <td>90</td>\n",
       "      <td>162</td>\n",
       "      <td>28</td>\n",
       "    </tr>\n",
       "    <tr>\n",
       "      <th>4</th>\n",
       "      <td>100</td>\n",
       "      <td>185</td>\n",
       "      <td>23</td>\n",
       "    </tr>\n",
       "    <tr>\n",
       "      <th>5</th>\n",
       "      <td>147</td>\n",
       "      <td>189</td>\n",
       "      <td>32</td>\n",
       "    </tr>\n",
       "  </tbody>\n",
       "</table>\n",
       "</div>"
      ],
      "text/plain": [
       "   Peso (kg)  Altura (cm)  Idade (anos)\n",
       "0         47          161            31\n",
       "1         80          170            21\n",
       "2         60          175            16\n",
       "3         90          162            28\n",
       "4        100          185            23\n",
       "5        147          189            32"
      ]
     },
     "execution_count": 116,
     "metadata": {},
     "output_type": "execute_result"
    }
   ],
   "source": [
    "tabela"
   ]
  },
  {
   "cell_type": "code",
   "execution_count": 117,
   "metadata": {},
   "outputs": [],
   "source": [
    "#D Crie um nova coluna no DataFrame que contenha o IMC (Índice de Massa Corporal) de cada pessoa;\n",
    "# Obs.: A fórmula para o IMC é dada por IMC = Peso/(Altura)² com o peso em kg e a altura em metros.\n",
    "\n",
    "tabela[\"IMC\"] = (tabela[\"Peso (kg)\"])/(tabela[\"Altura (cm)\"]/100)**2"
   ]
  },
  {
   "cell_type": "code",
   "execution_count": 118,
   "metadata": {},
   "outputs": [
    {
     "data": {
      "text/html": [
       "<div>\n",
       "<style scoped>\n",
       "    .dataframe tbody tr th:only-of-type {\n",
       "        vertical-align: middle;\n",
       "    }\n",
       "\n",
       "    .dataframe tbody tr th {\n",
       "        vertical-align: top;\n",
       "    }\n",
       "\n",
       "    .dataframe thead th {\n",
       "        text-align: right;\n",
       "    }\n",
       "</style>\n",
       "<table border=\"1\" class=\"dataframe\">\n",
       "  <thead>\n",
       "    <tr style=\"text-align: right;\">\n",
       "      <th></th>\n",
       "      <th>Peso (kg)</th>\n",
       "      <th>Altura (cm)</th>\n",
       "      <th>Idade (anos)</th>\n",
       "      <th>IMC</th>\n",
       "    </tr>\n",
       "  </thead>\n",
       "  <tbody>\n",
       "    <tr>\n",
       "      <th>0</th>\n",
       "      <td>47</td>\n",
       "      <td>161</td>\n",
       "      <td>31</td>\n",
       "      <td>18.13</td>\n",
       "    </tr>\n",
       "    <tr>\n",
       "      <th>1</th>\n",
       "      <td>80</td>\n",
       "      <td>170</td>\n",
       "      <td>21</td>\n",
       "      <td>27.68</td>\n",
       "    </tr>\n",
       "    <tr>\n",
       "      <th>2</th>\n",
       "      <td>60</td>\n",
       "      <td>175</td>\n",
       "      <td>16</td>\n",
       "      <td>19.59</td>\n",
       "    </tr>\n",
       "    <tr>\n",
       "      <th>3</th>\n",
       "      <td>90</td>\n",
       "      <td>162</td>\n",
       "      <td>28</td>\n",
       "      <td>34.29</td>\n",
       "    </tr>\n",
       "    <tr>\n",
       "      <th>4</th>\n",
       "      <td>100</td>\n",
       "      <td>185</td>\n",
       "      <td>23</td>\n",
       "      <td>29.22</td>\n",
       "    </tr>\n",
       "    <tr>\n",
       "      <th>5</th>\n",
       "      <td>147</td>\n",
       "      <td>189</td>\n",
       "      <td>32</td>\n",
       "      <td>41.15</td>\n",
       "    </tr>\n",
       "  </tbody>\n",
       "</table>\n",
       "</div>"
      ],
      "text/plain": [
       "   Peso (kg)  Altura (cm)  Idade (anos)   IMC\n",
       "0         47          161            31 18.13\n",
       "1         80          170            21 27.68\n",
       "2         60          175            16 19.59\n",
       "3         90          162            28 34.29\n",
       "4        100          185            23 29.22\n",
       "5        147          189            32 41.15"
      ]
     },
     "execution_count": 118,
     "metadata": {},
     "output_type": "execute_result"
    }
   ],
   "source": [
    "tabela"
   ]
  },
  {
   "cell_type": "code",
   "execution_count": 126,
   "metadata": {},
   "outputs": [
    {
     "data": {
      "text/html": [
       "<div>\n",
       "<style scoped>\n",
       "    .dataframe tbody tr th:only-of-type {\n",
       "        vertical-align: middle;\n",
       "    }\n",
       "\n",
       "    .dataframe tbody tr th {\n",
       "        vertical-align: top;\n",
       "    }\n",
       "\n",
       "    .dataframe thead th {\n",
       "        text-align: right;\n",
       "    }\n",
       "</style>\n",
       "<table border=\"1\" class=\"dataframe\">\n",
       "  <thead>\n",
       "    <tr style=\"text-align: right;\">\n",
       "      <th></th>\n",
       "      <th>Peso (kg)</th>\n",
       "      <th>Altura (cm)</th>\n",
       "      <th>IMC</th>\n",
       "    </tr>\n",
       "  </thead>\n",
       "  <tbody>\n",
       "    <tr>\n",
       "      <th>0</th>\n",
       "      <td>47</td>\n",
       "      <td>161</td>\n",
       "      <td>18.13</td>\n",
       "    </tr>\n",
       "    <tr>\n",
       "      <th>1</th>\n",
       "      <td>80</td>\n",
       "      <td>170</td>\n",
       "      <td>27.68</td>\n",
       "    </tr>\n",
       "    <tr>\n",
       "      <th>2</th>\n",
       "      <td>60</td>\n",
       "      <td>175</td>\n",
       "      <td>19.59</td>\n",
       "    </tr>\n",
       "    <tr>\n",
       "      <th>3</th>\n",
       "      <td>90</td>\n",
       "      <td>162</td>\n",
       "      <td>34.29</td>\n",
       "    </tr>\n",
       "    <tr>\n",
       "      <th>4</th>\n",
       "      <td>100</td>\n",
       "      <td>185</td>\n",
       "      <td>29.22</td>\n",
       "    </tr>\n",
       "    <tr>\n",
       "      <th>5</th>\n",
       "      <td>147</td>\n",
       "      <td>189</td>\n",
       "      <td>41.15</td>\n",
       "    </tr>\n",
       "  </tbody>\n",
       "</table>\n",
       "</div>"
      ],
      "text/plain": [
       "   Peso (kg)  Altura (cm)   IMC\n",
       "0         47          161 18.13\n",
       "1         80          170 27.68\n",
       "2         60          175 19.59\n",
       "3         90          162 34.29\n",
       "4        100          185 29.22\n",
       "5        147          189 41.15"
      ]
     },
     "execution_count": 126,
     "metadata": {},
     "output_type": "execute_result"
    }
   ],
   "source": [
    "#E Remova a coluna que contém a idade das pessoas;\n",
    "tabela2 = tabela.copy()\n",
    "tabela2.drop(columns=['Idade (anos)'],axis=1, inplace=True)\n",
    "tabela2"
   ]
  },
  {
   "cell_type": "code",
   "execution_count": 132,
   "metadata": {},
   "outputs": [],
   "source": [
    "tabela2.drop(columns='Classificação', axis=1, inplace=True)"
   ]
  },
  {
   "cell_type": "code",
   "execution_count": 139,
   "metadata": {},
   "outputs": [
    {
     "data": {
      "text/html": [
       "<div>\n",
       "<style scoped>\n",
       "    .dataframe tbody tr th:only-of-type {\n",
       "        vertical-align: middle;\n",
       "    }\n",
       "\n",
       "    .dataframe tbody tr th {\n",
       "        vertical-align: top;\n",
       "    }\n",
       "\n",
       "    .dataframe thead th {\n",
       "        text-align: right;\n",
       "    }\n",
       "</style>\n",
       "<table border=\"1\" class=\"dataframe\">\n",
       "  <thead>\n",
       "    <tr style=\"text-align: right;\">\n",
       "      <th></th>\n",
       "      <th>Peso (kg)</th>\n",
       "      <th>Altura (cm)</th>\n",
       "      <th>IMC</th>\n",
       "      <th>Classificação</th>\n",
       "    </tr>\n",
       "  </thead>\n",
       "  <tbody>\n",
       "    <tr>\n",
       "      <th>0</th>\n",
       "      <td>47</td>\n",
       "      <td>161</td>\n",
       "      <td>18.13</td>\n",
       "      <td>Subpeso</td>\n",
       "    </tr>\n",
       "    <tr>\n",
       "      <th>1</th>\n",
       "      <td>80</td>\n",
       "      <td>170</td>\n",
       "      <td>27.68</td>\n",
       "      <td>Sobrepeso</td>\n",
       "    </tr>\n",
       "    <tr>\n",
       "      <th>2</th>\n",
       "      <td>60</td>\n",
       "      <td>175</td>\n",
       "      <td>19.59</td>\n",
       "      <td>Normal</td>\n",
       "    </tr>\n",
       "    <tr>\n",
       "      <th>3</th>\n",
       "      <td>90</td>\n",
       "      <td>162</td>\n",
       "      <td>34.29</td>\n",
       "      <td>Obesidade Grau 1</td>\n",
       "    </tr>\n",
       "    <tr>\n",
       "      <th>4</th>\n",
       "      <td>100</td>\n",
       "      <td>185</td>\n",
       "      <td>29.22</td>\n",
       "      <td>Sobrepeso</td>\n",
       "    </tr>\n",
       "    <tr>\n",
       "      <th>5</th>\n",
       "      <td>147</td>\n",
       "      <td>189</td>\n",
       "      <td>41.15</td>\n",
       "      <td>Obesidade Grau 2</td>\n",
       "    </tr>\n",
       "  </tbody>\n",
       "</table>\n",
       "</div>"
      ],
      "text/plain": [
       "   Peso (kg)  Altura (cm)   IMC     Classificação\n",
       "0         47          161 18.13           Subpeso\n",
       "1         80          170 27.68         Sobrepeso\n",
       "2         60          175 19.59            Normal\n",
       "3         90          162 34.29  Obesidade Grau 1\n",
       "4        100          185 29.22         Sobrepeso\n",
       "5        147          189 41.15  Obesidade Grau 2"
      ]
     },
     "execution_count": 139,
     "metadata": {},
     "output_type": "execute_result"
    }
   ],
   "source": [
    "#F Crie uma nova coluna chamada Classificação, que contenha a classificação de cada indivíduo, de acordo com o seu IMC.\n",
    "# Para isso, consulte a tabela abaixo.\n",
    "\n",
    "def classificar(x):\n",
    "\n",
    "    if x<18.5:\n",
    "        return 'Subpeso'\n",
    "    elif x<=24.9:\n",
    "        return 'Normal'\n",
    "    elif x<=29.9:\n",
    "        return 'Sobrepeso'\n",
    "    elif x<=39.9:\n",
    "        return 'Obesidade Grau 1'\n",
    "    else:\n",
    "        return 'Obesidade Grau 2'\n",
    "\n",
    "tabela2['Classificação'] = tabela2['IMC'].transform(classificar)\n",
    "tabela2\n"
   ]
  },
  {
   "cell_type": "code",
   "execution_count": 140,
   "metadata": {},
   "outputs": [],
   "source": [
    "#G Salve esses dados do DataFrame em um arquivo csv.\n",
    "\n",
    "tabela2.to_csv('arquivo_prova_IMC.csv')"
   ]
  },
  {
   "cell_type": "markdown",
   "metadata": {},
   "source": [
    "### Problema 3\n",
    "\n",
    "O arquivo avocado.xlsx consiste em um dataset que contém dados sobre vendas de abacates  em diversas regiões dos Estados Unidos. Essa dataset contém as seguintes colunas:\n",
    "\n",
    "| Coluna | Descrição |\n",
    "|--------|-----------|\n",
    "| Date | data da observação |\n",
    "| AveragePrice | preço médio de um único abacate |\n",
    "| year | ano |\n",
    "| region | cidade ou região da observação |\n",
    "| Total Volume | volume total de abacates vendidos |\n",
    "\n",
    "Além das informações acima, contidas no arquivo avocado.xlsx, o tipo do abacate (convencional ou orgânico) também seria uma informação importante para a sua análise. Suponhamos que você conseguiu essas informações para cada uma das observações do arquivo avocado.csv, na mesma ordem, e salvou-as no arquivo avocado_type.xlsx. Portanto, tudo o que você precisa é juntar esses dois arquivos em um mesmo DataFrame.\n",
    "\n",
    "Com o DataFrame criado, obtenha o que é solicitado nos itens elencados abaixo:\n",
    "\n",
    "\n"
   ]
  },
  {
   "cell_type": "code",
   "execution_count": 251,
   "metadata": {},
   "outputs": [
    {
     "data": {
      "text/plain": [
       "((18249, 1), (18249, 5))"
      ]
     },
     "execution_count": 251,
     "metadata": {},
     "output_type": "execute_result"
    }
   ],
   "source": [
    "avog = pd.read_csv('data/avocado.csv', delimiter=';')\n",
    "avot = pd.read_excel('data/avocado_type.xlsx')\n",
    "avot.shape, avog.shape"
   ]
  },
  {
   "cell_type": "code",
   "execution_count": 252,
   "metadata": {},
   "outputs": [
    {
     "data": {
      "text/html": [
       "<div>\n",
       "<style scoped>\n",
       "    .dataframe tbody tr th:only-of-type {\n",
       "        vertical-align: middle;\n",
       "    }\n",
       "\n",
       "    .dataframe tbody tr th {\n",
       "        vertical-align: top;\n",
       "    }\n",
       "\n",
       "    .dataframe thead th {\n",
       "        text-align: right;\n",
       "    }\n",
       "</style>\n",
       "<table border=\"1\" class=\"dataframe\">\n",
       "  <thead>\n",
       "    <tr style=\"text-align: right;\">\n",
       "      <th></th>\n",
       "      <th>Date</th>\n",
       "      <th>AveragePrice</th>\n",
       "      <th>Total Volume</th>\n",
       "      <th>year</th>\n",
       "      <th>region</th>\n",
       "      <th>Type</th>\n",
       "    </tr>\n",
       "  </thead>\n",
       "  <tbody>\n",
       "    <tr>\n",
       "      <th>0</th>\n",
       "      <td>2015-12-27</td>\n",
       "      <td>1.33</td>\n",
       "      <td>64,236.62</td>\n",
       "      <td>2015</td>\n",
       "      <td>Albany</td>\n",
       "      <td>orgânico</td>\n",
       "    </tr>\n",
       "    <tr>\n",
       "      <th>1</th>\n",
       "      <td>2015-12-20</td>\n",
       "      <td>1.35</td>\n",
       "      <td>54,876.98</td>\n",
       "      <td>2015</td>\n",
       "      <td>Albany</td>\n",
       "      <td>convencional</td>\n",
       "    </tr>\n",
       "    <tr>\n",
       "      <th>2</th>\n",
       "      <td>2015-12-13</td>\n",
       "      <td>0.93</td>\n",
       "      <td>118,220.22</td>\n",
       "      <td>2015</td>\n",
       "      <td>Albany</td>\n",
       "      <td>convencional</td>\n",
       "    </tr>\n",
       "    <tr>\n",
       "      <th>3</th>\n",
       "      <td>2015-12-06</td>\n",
       "      <td>1.08</td>\n",
       "      <td>78,992.15</td>\n",
       "      <td>2015</td>\n",
       "      <td>Albany</td>\n",
       "      <td>orgânico</td>\n",
       "    </tr>\n",
       "    <tr>\n",
       "      <th>4</th>\n",
       "      <td>2015-11-29</td>\n",
       "      <td>1.28</td>\n",
       "      <td>51,039.60</td>\n",
       "      <td>2015</td>\n",
       "      <td>Albany</td>\n",
       "      <td>orgânico</td>\n",
       "    </tr>\n",
       "    <tr>\n",
       "      <th>...</th>\n",
       "      <td>...</td>\n",
       "      <td>...</td>\n",
       "      <td>...</td>\n",
       "      <td>...</td>\n",
       "      <td>...</td>\n",
       "      <td>...</td>\n",
       "    </tr>\n",
       "    <tr>\n",
       "      <th>18244</th>\n",
       "      <td>2018-02-04</td>\n",
       "      <td>1.63</td>\n",
       "      <td>17,074.83</td>\n",
       "      <td>2018</td>\n",
       "      <td>WestTexNewMexico</td>\n",
       "      <td>convencional</td>\n",
       "    </tr>\n",
       "    <tr>\n",
       "      <th>18245</th>\n",
       "      <td>2018-01-28</td>\n",
       "      <td>1.71</td>\n",
       "      <td>13,888.04</td>\n",
       "      <td>2018</td>\n",
       "      <td>WestTexNewMexico</td>\n",
       "      <td>convencional</td>\n",
       "    </tr>\n",
       "    <tr>\n",
       "      <th>18246</th>\n",
       "      <td>2018-01-21</td>\n",
       "      <td>1.87</td>\n",
       "      <td>13,766.76</td>\n",
       "      <td>2018</td>\n",
       "      <td>WestTexNewMexico</td>\n",
       "      <td>convencional</td>\n",
       "    </tr>\n",
       "    <tr>\n",
       "      <th>18247</th>\n",
       "      <td>2018-01-14</td>\n",
       "      <td>1.93</td>\n",
       "      <td>16,205.22</td>\n",
       "      <td>2018</td>\n",
       "      <td>WestTexNewMexico</td>\n",
       "      <td>convencional</td>\n",
       "    </tr>\n",
       "    <tr>\n",
       "      <th>18248</th>\n",
       "      <td>2018-01-07</td>\n",
       "      <td>1.62</td>\n",
       "      <td>17,489.58</td>\n",
       "      <td>2018</td>\n",
       "      <td>WestTexNewMexico</td>\n",
       "      <td>convencional</td>\n",
       "    </tr>\n",
       "  </tbody>\n",
       "</table>\n",
       "<p>18249 rows × 6 columns</p>\n",
       "</div>"
      ],
      "text/plain": [
       "             Date  AveragePrice  Total Volume  year            region  \\\n",
       "0      2015-12-27          1.33     64,236.62  2015            Albany   \n",
       "1      2015-12-20          1.35     54,876.98  2015            Albany   \n",
       "2      2015-12-13          0.93    118,220.22  2015            Albany   \n",
       "3      2015-12-06          1.08     78,992.15  2015            Albany   \n",
       "4      2015-11-29          1.28     51,039.60  2015            Albany   \n",
       "...           ...           ...           ...   ...               ...   \n",
       "18244  2018-02-04          1.63     17,074.83  2018  WestTexNewMexico   \n",
       "18245  2018-01-28          1.71     13,888.04  2018  WestTexNewMexico   \n",
       "18246  2018-01-21          1.87     13,766.76  2018  WestTexNewMexico   \n",
       "18247  2018-01-14          1.93     16,205.22  2018  WestTexNewMexico   \n",
       "18248  2018-01-07          1.62     17,489.58  2018  WestTexNewMexico   \n",
       "\n",
       "               Type  \n",
       "0          orgânico  \n",
       "1      convencional  \n",
       "2      convencional  \n",
       "3          orgânico  \n",
       "4          orgânico  \n",
       "...             ...  \n",
       "18244  convencional  \n",
       "18245  convencional  \n",
       "18246  convencional  \n",
       "18247  convencional  \n",
       "18248  convencional  \n",
       "\n",
       "[18249 rows x 6 columns]"
      ]
     },
     "execution_count": 252,
     "metadata": {},
     "output_type": "execute_result"
    }
   ],
   "source": [
    "avog['Type'] = avot['type']\n",
    "avog"
   ]
  },
  {
   "cell_type": "markdown",
   "metadata": {},
   "source": [
    "(a) A quantidade de abacates do tipo convecional e do tipo orgânico."
   ]
  },
  {
   "cell_type": "code",
   "execution_count": 253,
   "metadata": {},
   "outputs": [
    {
     "data": {
      "text/plain": [
       "Type\n",
       "convencional    9114\n",
       "orgânico        9135\n",
       "Name: Type, dtype: int64"
      ]
     },
     "execution_count": 253,
     "metadata": {},
     "output_type": "execute_result"
    }
   ],
   "source": [
    "avog.groupby('Type')['Type'].count()"
   ]
  },
  {
   "cell_type": "markdown",
   "metadata": {},
   "source": [
    "\n",
    "(b) A quantidade de registros (linhas) de abacates vendidos para cada região ordenada da maior venda para a menor."
   ]
  },
  {
   "cell_type": "code",
   "execution_count": null,
   "metadata": {},
   "outputs": [],
   "source": []
  },
  {
   "cell_type": "markdown",
   "metadata": {},
   "source": [
    "(c) Para que todos os labels das colunas fiquem padronizados, renomeie aqueles que estão iniciando em letra minúscula para que iniciem em letra maiúscula, trocando espaço por _ e adicionando _ como separação de texto."
   ]
  },
  {
   "cell_type": "code",
   "execution_count": 254,
   "metadata": {},
   "outputs": [
    {
     "data": {
      "text/plain": [
       "Index(['Date', 'AveragePrice', 'Total Volume', 'year', 'region', 'Type'], dtype='object')"
      ]
     },
     "execution_count": 254,
     "metadata": {},
     "output_type": "execute_result"
    }
   ],
   "source": [
    "avog.columns"
   ]
  },
  {
   "cell_type": "code",
   "execution_count": 255,
   "metadata": {},
   "outputs": [
    {
     "data": {
      "text/html": [
       "<div>\n",
       "<style scoped>\n",
       "    .dataframe tbody tr th:only-of-type {\n",
       "        vertical-align: middle;\n",
       "    }\n",
       "\n",
       "    .dataframe tbody tr th {\n",
       "        vertical-align: top;\n",
       "    }\n",
       "\n",
       "    .dataframe thead th {\n",
       "        text-align: right;\n",
       "    }\n",
       "</style>\n",
       "<table border=\"1\" class=\"dataframe\">\n",
       "  <thead>\n",
       "    <tr style=\"text-align: right;\">\n",
       "      <th></th>\n",
       "      <th>Date</th>\n",
       "      <th>Average_Price</th>\n",
       "      <th>Total_Volume</th>\n",
       "      <th>Year</th>\n",
       "      <th>Region</th>\n",
       "      <th>Type</th>\n",
       "    </tr>\n",
       "  </thead>\n",
       "  <tbody>\n",
       "    <tr>\n",
       "      <th>0</th>\n",
       "      <td>2015-12-27</td>\n",
       "      <td>1.33</td>\n",
       "      <td>64,236.62</td>\n",
       "      <td>2015</td>\n",
       "      <td>Albany</td>\n",
       "      <td>orgânico</td>\n",
       "    </tr>\n",
       "    <tr>\n",
       "      <th>1</th>\n",
       "      <td>2015-12-20</td>\n",
       "      <td>1.35</td>\n",
       "      <td>54,876.98</td>\n",
       "      <td>2015</td>\n",
       "      <td>Albany</td>\n",
       "      <td>convencional</td>\n",
       "    </tr>\n",
       "    <tr>\n",
       "      <th>2</th>\n",
       "      <td>2015-12-13</td>\n",
       "      <td>0.93</td>\n",
       "      <td>118,220.22</td>\n",
       "      <td>2015</td>\n",
       "      <td>Albany</td>\n",
       "      <td>convencional</td>\n",
       "    </tr>\n",
       "    <tr>\n",
       "      <th>3</th>\n",
       "      <td>2015-12-06</td>\n",
       "      <td>1.08</td>\n",
       "      <td>78,992.15</td>\n",
       "      <td>2015</td>\n",
       "      <td>Albany</td>\n",
       "      <td>orgânico</td>\n",
       "    </tr>\n",
       "    <tr>\n",
       "      <th>4</th>\n",
       "      <td>2015-11-29</td>\n",
       "      <td>1.28</td>\n",
       "      <td>51,039.60</td>\n",
       "      <td>2015</td>\n",
       "      <td>Albany</td>\n",
       "      <td>orgânico</td>\n",
       "    </tr>\n",
       "    <tr>\n",
       "      <th>...</th>\n",
       "      <td>...</td>\n",
       "      <td>...</td>\n",
       "      <td>...</td>\n",
       "      <td>...</td>\n",
       "      <td>...</td>\n",
       "      <td>...</td>\n",
       "    </tr>\n",
       "    <tr>\n",
       "      <th>18244</th>\n",
       "      <td>2018-02-04</td>\n",
       "      <td>1.63</td>\n",
       "      <td>17,074.83</td>\n",
       "      <td>2018</td>\n",
       "      <td>WestTexNewMexico</td>\n",
       "      <td>convencional</td>\n",
       "    </tr>\n",
       "    <tr>\n",
       "      <th>18245</th>\n",
       "      <td>2018-01-28</td>\n",
       "      <td>1.71</td>\n",
       "      <td>13,888.04</td>\n",
       "      <td>2018</td>\n",
       "      <td>WestTexNewMexico</td>\n",
       "      <td>convencional</td>\n",
       "    </tr>\n",
       "    <tr>\n",
       "      <th>18246</th>\n",
       "      <td>2018-01-21</td>\n",
       "      <td>1.87</td>\n",
       "      <td>13,766.76</td>\n",
       "      <td>2018</td>\n",
       "      <td>WestTexNewMexico</td>\n",
       "      <td>convencional</td>\n",
       "    </tr>\n",
       "    <tr>\n",
       "      <th>18247</th>\n",
       "      <td>2018-01-14</td>\n",
       "      <td>1.93</td>\n",
       "      <td>16,205.22</td>\n",
       "      <td>2018</td>\n",
       "      <td>WestTexNewMexico</td>\n",
       "      <td>convencional</td>\n",
       "    </tr>\n",
       "    <tr>\n",
       "      <th>18248</th>\n",
       "      <td>2018-01-07</td>\n",
       "      <td>1.62</td>\n",
       "      <td>17,489.58</td>\n",
       "      <td>2018</td>\n",
       "      <td>WestTexNewMexico</td>\n",
       "      <td>convencional</td>\n",
       "    </tr>\n",
       "  </tbody>\n",
       "</table>\n",
       "<p>18249 rows × 6 columns</p>\n",
       "</div>"
      ],
      "text/plain": [
       "             Date  Average_Price  Total_Volume  Year            Region  \\\n",
       "0      2015-12-27           1.33     64,236.62  2015            Albany   \n",
       "1      2015-12-20           1.35     54,876.98  2015            Albany   \n",
       "2      2015-12-13           0.93    118,220.22  2015            Albany   \n",
       "3      2015-12-06           1.08     78,992.15  2015            Albany   \n",
       "4      2015-11-29           1.28     51,039.60  2015            Albany   \n",
       "...           ...            ...           ...   ...               ...   \n",
       "18244  2018-02-04           1.63     17,074.83  2018  WestTexNewMexico   \n",
       "18245  2018-01-28           1.71     13,888.04  2018  WestTexNewMexico   \n",
       "18246  2018-01-21           1.87     13,766.76  2018  WestTexNewMexico   \n",
       "18247  2018-01-14           1.93     16,205.22  2018  WestTexNewMexico   \n",
       "18248  2018-01-07           1.62     17,489.58  2018  WestTexNewMexico   \n",
       "\n",
       "               Type  \n",
       "0          orgânico  \n",
       "1      convencional  \n",
       "2      convencional  \n",
       "3          orgânico  \n",
       "4          orgânico  \n",
       "...             ...  \n",
       "18244  convencional  \n",
       "18245  convencional  \n",
       "18246  convencional  \n",
       "18247  convencional  \n",
       "18248  convencional  \n",
       "\n",
       "[18249 rows x 6 columns]"
      ]
     },
     "execution_count": 255,
     "metadata": {},
     "output_type": "execute_result"
    }
   ],
   "source": [
    "avog.rename({'AveragePrice':'Average_Price','Total Volume':'Total_Volume','year':'Year','region':'Region'},axis=1, inplace=True)\n",
    "avog"
   ]
  },
  {
   "cell_type": "markdown",
   "metadata": {},
   "source": [
    "(d) Essa dado possui duplicados? Se sim, remova-os do dataset."
   ]
  },
  {
   "cell_type": "code",
   "execution_count": 256,
   "metadata": {},
   "outputs": [
    {
     "data": {
      "text/plain": [
       "0"
      ]
     },
     "execution_count": 256,
     "metadata": {},
     "output_type": "execute_result"
    }
   ],
   "source": [
    "avog.duplicated().sum()\n",
    "# avog.shape"
   ]
  },
  {
   "cell_type": "markdown",
   "metadata": {},
   "source": [
    "(e) Retire dos dados a região 'TotalUS'"
   ]
  },
  {
   "cell_type": "code",
   "execution_count": 269,
   "metadata": {},
   "outputs": [
    {
     "data": {
      "text/plain": [
       "Index(['Date', 'Average_Price', 'Total_Volume', 'Year', 'Region', 'Type'], dtype='object')"
      ]
     },
     "execution_count": 269,
     "metadata": {},
     "output_type": "execute_result"
    }
   ],
   "source": [
    "avog2.columns"
   ]
  },
  {
   "cell_type": "code",
   "execution_count": 284,
   "metadata": {},
   "outputs": [
    {
     "data": {
      "text/plain": [
       "(17911, 6)"
      ]
     },
     "execution_count": 284,
     "metadata": {},
     "output_type": "execute_result"
    }
   ],
   "source": [
    "avog2=avog.copy()\n",
    "avog2 = avog2.set_index('Region')\n",
    "avog2 = avog2.drop(index='TotalUS')\n",
    "avog2.reset_index(inplace=True)\n",
    "\n",
    "# outra forma de se fazer\n",
    "df_remove = df_avocado_csv.loc[(df_avocado_csv['Region'] == 'TotalUS')]\n",
    "df_avocado_csv.drop(df_remove.index)"
   ]
  },
  {
   "cell_type": "markdown",
   "metadata": {},
   "source": [
    "(g) Apresente as regiões que mais venderam abacate em todo o período em ordem decrescente."
   ]
  },
  {
   "cell_type": "code",
   "execution_count": 301,
   "metadata": {},
   "outputs": [
    {
     "data": {
      "text/html": [
       "<div>\n",
       "<style scoped>\n",
       "    .dataframe tbody tr th:only-of-type {\n",
       "        vertical-align: middle;\n",
       "    }\n",
       "\n",
       "    .dataframe tbody tr th {\n",
       "        vertical-align: top;\n",
       "    }\n",
       "\n",
       "    .dataframe thead th {\n",
       "        text-align: right;\n",
       "    }\n",
       "</style>\n",
       "<table border=\"1\" class=\"dataframe\">\n",
       "  <thead>\n",
       "    <tr style=\"text-align: right;\">\n",
       "      <th></th>\n",
       "      <th>Total_Volume</th>\n",
       "    </tr>\n",
       "    <tr>\n",
       "      <th>Region</th>\n",
       "      <th></th>\n",
       "    </tr>\n",
       "  </thead>\n",
       "  <tbody>\n",
       "    <tr>\n",
       "      <th>West</th>\n",
       "      <td>1,086,779,155.75</td>\n",
       "    </tr>\n",
       "    <tr>\n",
       "      <th>California</th>\n",
       "      <td>1,028,981,653.17</td>\n",
       "    </tr>\n",
       "    <tr>\n",
       "      <th>SouthCentral</th>\n",
       "      <td>1,011,279,618.83</td>\n",
       "    </tr>\n",
       "    <tr>\n",
       "      <th>Northeast</th>\n",
       "      <td>713,280,909.56</td>\n",
       "    </tr>\n",
       "    <tr>\n",
       "      <th>Southeast</th>\n",
       "      <td>615,238,409.11</td>\n",
       "    </tr>\n",
       "    <tr>\n",
       "      <th>GreatLakes</th>\n",
       "      <td>589,642,549.29</td>\n",
       "    </tr>\n",
       "    <tr>\n",
       "      <th>Midsouth</th>\n",
       "      <td>508,349,357.20</td>\n",
       "    </tr>\n",
       "    <tr>\n",
       "      <th>LosAngeles</th>\n",
       "      <td>507,896,547.63</td>\n",
       "    </tr>\n",
       "    <tr>\n",
       "      <th>Plains</th>\n",
       "      <td>311,188,529.11</td>\n",
       "    </tr>\n",
       "    <tr>\n",
       "      <th>NewYork</th>\n",
       "      <td>240,734,127.53</td>\n",
       "    </tr>\n",
       "  </tbody>\n",
       "</table>\n",
       "</div>"
      ],
      "text/plain": [
       "                 Total_Volume\n",
       "Region                       \n",
       "West         1,086,779,155.75\n",
       "California   1,028,981,653.17\n",
       "SouthCentral 1,011,279,618.83\n",
       "Northeast      713,280,909.56\n",
       "Southeast      615,238,409.11\n",
       "GreatLakes     589,642,549.29\n",
       "Midsouth       508,349,357.20\n",
       "LosAngeles     507,896,547.63\n",
       "Plains         311,188,529.11\n",
       "NewYork        240,734,127.53"
      ]
     },
     "execution_count": 301,
     "metadata": {},
     "output_type": "execute_result"
    }
   ],
   "source": [
    "avog2.groupby(['Region'])[['Total_Volume']].sum().sort_values('Total_Volume', ascending=False).head(10)"
   ]
  },
  {
   "cell_type": "markdown",
   "metadata": {},
   "source": [
    "(h) Calcule o volume total de abacates vendidos para cada tipo e ano."
   ]
  },
  {
   "cell_type": "code",
   "execution_count": 307,
   "metadata": {},
   "outputs": [
    {
     "data": {
      "text/html": [
       "<div>\n",
       "<style scoped>\n",
       "    .dataframe tbody tr th:only-of-type {\n",
       "        vertical-align: middle;\n",
       "    }\n",
       "\n",
       "    .dataframe tbody tr th {\n",
       "        vertical-align: top;\n",
       "    }\n",
       "\n",
       "    .dataframe thead th {\n",
       "        text-align: right;\n",
       "    }\n",
       "</style>\n",
       "<table border=\"1\" class=\"dataframe\">\n",
       "  <thead>\n",
       "    <tr style=\"text-align: right;\">\n",
       "      <th></th>\n",
       "      <th></th>\n",
       "      <th>Total_Volume</th>\n",
       "    </tr>\n",
       "    <tr>\n",
       "      <th>Type</th>\n",
       "      <th>Year</th>\n",
       "      <th></th>\n",
       "    </tr>\n",
       "  </thead>\n",
       "  <tbody>\n",
       "    <tr>\n",
       "      <th>convencional</th>\n",
       "      <th>2018</th>\n",
       "      <td>433,710,441.83</td>\n",
       "    </tr>\n",
       "    <tr>\n",
       "      <th>orgânico</th>\n",
       "      <th>2018</th>\n",
       "      <td>425,395,644.21</td>\n",
       "    </tr>\n",
       "    <tr>\n",
       "      <th>convencional</th>\n",
       "      <th>2017</th>\n",
       "      <td>1,505,463,914.14</td>\n",
       "    </tr>\n",
       "    <tr>\n",
       "      <th>orgânico</th>\n",
       "      <th>2017</th>\n",
       "      <td>1,564,148,221.75</td>\n",
       "    </tr>\n",
       "    <tr>\n",
       "      <th>convencional</th>\n",
       "      <th>2016</th>\n",
       "      <td>1,538,913,526.12</td>\n",
       "    </tr>\n",
       "    <tr>\n",
       "      <th>orgânico</th>\n",
       "      <th>2016</th>\n",
       "      <td>1,462,817,222.93</td>\n",
       "    </tr>\n",
       "    <tr>\n",
       "      <th>convencional</th>\n",
       "      <th>2015</th>\n",
       "      <td>1,405,835,526.60</td>\n",
       "    </tr>\n",
       "    <tr>\n",
       "      <th>orgânico</th>\n",
       "      <th>2015</th>\n",
       "      <td>1,322,377,914.02</td>\n",
       "    </tr>\n",
       "  </tbody>\n",
       "</table>\n",
       "</div>"
      ],
      "text/plain": [
       "                      Total_Volume\n",
       "Type         Year                 \n",
       "convencional 2018   433,710,441.83\n",
       "orgânico     2018   425,395,644.21\n",
       "convencional 2017 1,505,463,914.14\n",
       "orgânico     2017 1,564,148,221.75\n",
       "convencional 2016 1,538,913,526.12\n",
       "orgânico     2016 1,462,817,222.93\n",
       "convencional 2015 1,405,835,526.60\n",
       "orgânico     2015 1,322,377,914.02"
      ]
     },
     "execution_count": 307,
     "metadata": {},
     "output_type": "execute_result"
    }
   ],
   "source": [
    "avog2.groupby(['Type', 'Year'])[['Total_Volume']].sum().sort_values('Year', ascending=False)"
   ]
  },
  {
   "cell_type": "markdown",
   "metadata": {},
   "source": [
    "(f) existe alguma região que foi a maior responsável pela queda na produção de 2018?"
   ]
  },
  {
   "cell_type": "code",
   "execution_count": 367,
   "metadata": {},
   "outputs": [
    {
     "data": {
      "text/plain": [
       "Index(['Year', 'Total_Volume', 'Region'], dtype='object')"
      ]
     },
     "execution_count": 367,
     "metadata": {},
     "output_type": "execute_result"
    }
   ],
   "source": [
    "avog3.columns"
   ]
  },
  {
   "cell_type": "code",
   "execution_count": 370,
   "metadata": {},
   "outputs": [],
   "source": [
    "avog3=avog.copy()\n",
    "avog3 = avog3.set_index('Year')\n",
    "avog3 = avog3.drop(labels=['Date','Average_Price', 'Type'], axis=1)\n",
    "avog3 = avog3.drop(index=[2015,2016])\n",
    "avog3.reset_index(inplace=True)"
   ]
  },
  {
   "cell_type": "code",
   "execution_count": null,
   "metadata": {},
   "outputs": [],
   "source": [
    "pd.set_option('display.max_columns', None) # or 1000.\n",
    "pd.set_option('display.max_rows', None) # or 1000.\n",
    "pd.set_option('display.max_colwidth', -1) # or 199."
   ]
  },
  {
   "cell_type": "code",
   "execution_count": 371,
   "metadata": {},
   "outputs": [
    {
     "data": {
      "text/html": [
       "<div>\n",
       "<style scoped>\n",
       "    .dataframe tbody tr th:only-of-type {\n",
       "        vertical-align: middle;\n",
       "    }\n",
       "\n",
       "    .dataframe tbody tr th {\n",
       "        vertical-align: top;\n",
       "    }\n",
       "\n",
       "    .dataframe thead th {\n",
       "        text-align: right;\n",
       "    }\n",
       "</style>\n",
       "<table border=\"1\" class=\"dataframe\">\n",
       "  <thead>\n",
       "    <tr style=\"text-align: right;\">\n",
       "      <th>Year</th>\n",
       "      <th>2017</th>\n",
       "      <th>2018</th>\n",
       "    </tr>\n",
       "    <tr>\n",
       "      <th>Region</th>\n",
       "      <th></th>\n",
       "      <th></th>\n",
       "    </tr>\n",
       "  </thead>\n",
       "  <tbody>\n",
       "    <tr>\n",
       "      <th>Albany</th>\n",
       "      <td>5,231,581.78</td>\n",
       "      <td>1,541,986.17</td>\n",
       "    </tr>\n",
       "    <tr>\n",
       "      <th>Atlanta</th>\n",
       "      <td>28,815,119.98</td>\n",
       "      <td>8,231,422.45</td>\n",
       "    </tr>\n",
       "    <tr>\n",
       "      <th>BaltimoreWashington</th>\n",
       "      <td>41,015,634.46</td>\n",
       "      <td>12,158,903.00</td>\n",
       "    </tr>\n",
       "    <tr>\n",
       "      <th>Boise</th>\n",
       "      <td>4,760,561.31</td>\n",
       "      <td>1,214,759.57</td>\n",
       "    </tr>\n",
       "    <tr>\n",
       "      <th>Boston</th>\n",
       "      <td>30,610,672.16</td>\n",
       "      <td>8,637,005.96</td>\n",
       "    </tr>\n",
       "  </tbody>\n",
       "</table>\n",
       "</div>"
      ],
      "text/plain": [
       "Year                         2017          2018\n",
       "Region                                         \n",
       "Albany              5,231,581.78  1,541,986.17 \n",
       "Atlanta             28,815,119.98 8,231,422.45 \n",
       "BaltimoreWashington 41,015,634.46 12,158,903.00\n",
       "Boise               4,760,561.31  1,214,759.57 \n",
       "Boston              30,610,672.16 8,637,005.96 "
      ]
     },
     "execution_count": 371,
     "metadata": {},
     "output_type": "execute_result"
    }
   ],
   "source": [
    "avog3.pivot_table(index='Region',values='Total_Volume', columns=['Year'], aggfunc='sum').head()"
   ]
  },
  {
   "cell_type": "markdown",
   "metadata": {},
   "source": [
    "(g) Qual cidade menos faturou com a venda de abacates?"
   ]
  },
  {
   "cell_type": "code",
   "execution_count": 351,
   "metadata": {},
   "outputs": [
    {
     "data": {
      "text/html": [
       "<div>\n",
       "<style scoped>\n",
       "    .dataframe tbody tr th:only-of-type {\n",
       "        vertical-align: middle;\n",
       "    }\n",
       "\n",
       "    .dataframe tbody tr th {\n",
       "        vertical-align: top;\n",
       "    }\n",
       "\n",
       "    .dataframe thead th {\n",
       "        text-align: right;\n",
       "    }\n",
       "</style>\n",
       "<table border=\"1\" class=\"dataframe\">\n",
       "  <thead>\n",
       "    <tr style=\"text-align: right;\">\n",
       "      <th></th>\n",
       "      <th>Faturamento</th>\n",
       "    </tr>\n",
       "    <tr>\n",
       "      <th>Region</th>\n",
       "      <th></th>\n",
       "    </tr>\n",
       "  </thead>\n",
       "  <tbody>\n",
       "    <tr>\n",
       "      <th>Syracuse</th>\n",
       "      <td>15,205,192.60</td>\n",
       "    </tr>\n",
       "    <tr>\n",
       "      <th>Boise</th>\n",
       "      <td>15,346,666.47</td>\n",
       "    </tr>\n",
       "    <tr>\n",
       "      <th>Spokane</th>\n",
       "      <td>17,156,485.66</td>\n",
       "    </tr>\n",
       "    <tr>\n",
       "      <th>Louisville</th>\n",
       "      <td>17,495,546.93</td>\n",
       "    </tr>\n",
       "    <tr>\n",
       "      <th>Albany</th>\n",
       "      <td>21,766,723.75</td>\n",
       "    </tr>\n",
       "  </tbody>\n",
       "</table>\n",
       "</div>"
      ],
      "text/plain": [
       "             Faturamento\n",
       "Region                  \n",
       "Syracuse   15,205,192.60\n",
       "Boise      15,346,666.47\n",
       "Spokane    17,156,485.66\n",
       "Louisville 17,495,546.93\n",
       "Albany     21,766,723.75"
      ]
     },
     "execution_count": 351,
     "metadata": {},
     "output_type": "execute_result"
    }
   ],
   "source": [
    "avog2['Faturamento']=avog2['Average_Price']*avog2['Total_Volume']\n",
    "avog2.groupby(['Region'])[['Faturamento']].sum().sort_values('Faturamento', ascending=True).head(5)"
   ]
  },
  {
   "cell_type": "markdown",
   "metadata": {},
   "source": [
    "### Problema 4\n",
    "\n",
    "Com base no dataset 'Video_Games_Sales.csv' responda:\n"
   ]
  },
  {
   "cell_type": "code",
   "execution_count": 353,
   "metadata": {},
   "outputs": [],
   "source": [
    "df = pd.read_csv('data/Video_Games_Sales.csv', delimiter=';')"
   ]
  },
  {
   "cell_type": "markdown",
   "metadata": {},
   "source": [
    "\n",
    "(a) Quantos jogos existem em cada genero?\n"
   ]
  },
  {
   "cell_type": "code",
   "execution_count": 358,
   "metadata": {},
   "outputs": [
    {
     "data": {
      "text/plain": [
       "(16719, 16)"
      ]
     },
     "execution_count": 358,
     "metadata": {},
     "output_type": "execute_result"
    }
   ],
   "source": [
    "df.shape"
   ]
  },
  {
   "cell_type": "code",
   "execution_count": 360,
   "metadata": {},
   "outputs": [
    {
     "data": {
      "text/html": [
       "<div>\n",
       "<style scoped>\n",
       "    .dataframe tbody tr th:only-of-type {\n",
       "        vertical-align: middle;\n",
       "    }\n",
       "\n",
       "    .dataframe tbody tr th {\n",
       "        vertical-align: top;\n",
       "    }\n",
       "\n",
       "    .dataframe thead th {\n",
       "        text-align: right;\n",
       "    }\n",
       "</style>\n",
       "<table border=\"1\" class=\"dataframe\">\n",
       "  <thead>\n",
       "    <tr style=\"text-align: right;\">\n",
       "      <th></th>\n",
       "      <th>Name</th>\n",
       "      <th>Platform</th>\n",
       "      <th>Year_of_Release</th>\n",
       "      <th>Genre</th>\n",
       "      <th>Publisher</th>\n",
       "      <th>NA_Sales</th>\n",
       "      <th>EU_Sales</th>\n",
       "      <th>JP_Sales</th>\n",
       "      <th>Other_Sales</th>\n",
       "      <th>Global_Sales</th>\n",
       "      <th>Critic_Score</th>\n",
       "      <th>Critic_Count</th>\n",
       "      <th>User_Score</th>\n",
       "      <th>User_Count</th>\n",
       "      <th>Developer</th>\n",
       "      <th>Rating</th>\n",
       "    </tr>\n",
       "  </thead>\n",
       "  <tbody>\n",
       "    <tr>\n",
       "      <th>0</th>\n",
       "      <td>Wii Sports</td>\n",
       "      <td>Wii</td>\n",
       "      <td>2,006.00</td>\n",
       "      <td>Sports</td>\n",
       "      <td>Nintendo</td>\n",
       "      <td>41.36</td>\n",
       "      <td>28.96</td>\n",
       "      <td>3.77</td>\n",
       "      <td>8.45</td>\n",
       "      <td>82.53</td>\n",
       "      <td>76.00</td>\n",
       "      <td>51.00</td>\n",
       "      <td>8.00</td>\n",
       "      <td>322.00</td>\n",
       "      <td>Nintendo</td>\n",
       "      <td>E</td>\n",
       "    </tr>\n",
       "    <tr>\n",
       "      <th>1</th>\n",
       "      <td>Super Mario Bros.</td>\n",
       "      <td>NES</td>\n",
       "      <td>1,985.00</td>\n",
       "      <td>Platform</td>\n",
       "      <td>Nintendo</td>\n",
       "      <td>29.08</td>\n",
       "      <td>3.58</td>\n",
       "      <td>6.81</td>\n",
       "      <td>0.77</td>\n",
       "      <td>40.24</td>\n",
       "      <td>nan</td>\n",
       "      <td>nan</td>\n",
       "      <td>nan</td>\n",
       "      <td>nan</td>\n",
       "      <td>NaN</td>\n",
       "      <td>NaN</td>\n",
       "    </tr>\n",
       "    <tr>\n",
       "      <th>2</th>\n",
       "      <td>Mario Kart Wii</td>\n",
       "      <td>Wii</td>\n",
       "      <td>2,008.00</td>\n",
       "      <td>Racing</td>\n",
       "      <td>Nintendo</td>\n",
       "      <td>15.68</td>\n",
       "      <td>12.76</td>\n",
       "      <td>3.79</td>\n",
       "      <td>3.29</td>\n",
       "      <td>35.52</td>\n",
       "      <td>82.00</td>\n",
       "      <td>73.00</td>\n",
       "      <td>8.30</td>\n",
       "      <td>709.00</td>\n",
       "      <td>Nintendo</td>\n",
       "      <td>E</td>\n",
       "    </tr>\n",
       "    <tr>\n",
       "      <th>3</th>\n",
       "      <td>Wii Sports Resort</td>\n",
       "      <td>Wii</td>\n",
       "      <td>2,009.00</td>\n",
       "      <td>Sports</td>\n",
       "      <td>Nintendo</td>\n",
       "      <td>15.61</td>\n",
       "      <td>10.93</td>\n",
       "      <td>3.28</td>\n",
       "      <td>2.95</td>\n",
       "      <td>32.77</td>\n",
       "      <td>80.00</td>\n",
       "      <td>73.00</td>\n",
       "      <td>8.00</td>\n",
       "      <td>192.00</td>\n",
       "      <td>Nintendo</td>\n",
       "      <td>E</td>\n",
       "    </tr>\n",
       "    <tr>\n",
       "      <th>4</th>\n",
       "      <td>Pokemon Red/Pokemon Blue</td>\n",
       "      <td>GB</td>\n",
       "      <td>1,996.00</td>\n",
       "      <td>Role-Playing</td>\n",
       "      <td>Nintendo</td>\n",
       "      <td>11.27</td>\n",
       "      <td>8.89</td>\n",
       "      <td>10.22</td>\n",
       "      <td>1.00</td>\n",
       "      <td>31.37</td>\n",
       "      <td>nan</td>\n",
       "      <td>nan</td>\n",
       "      <td>nan</td>\n",
       "      <td>nan</td>\n",
       "      <td>NaN</td>\n",
       "      <td>NaN</td>\n",
       "    </tr>\n",
       "  </tbody>\n",
       "</table>\n",
       "</div>"
      ],
      "text/plain": [
       "                       Name Platform  Year_of_Release         Genre Publisher  \\\n",
       "0  Wii Sports                Wii     2,006.00          Sports        Nintendo   \n",
       "1  Super Mario Bros.         NES     1,985.00          Platform      Nintendo   \n",
       "2  Mario Kart Wii            Wii     2,008.00          Racing        Nintendo   \n",
       "3  Wii Sports Resort         Wii     2,009.00          Sports        Nintendo   \n",
       "4  Pokemon Red/Pokemon Blue  GB      1,996.00          Role-Playing  Nintendo   \n",
       "\n",
       "   NA_Sales  EU_Sales  JP_Sales  Other_Sales  Global_Sales  Critic_Score  \\\n",
       "0 41.36     28.96     3.77      8.45         82.53         76.00           \n",
       "1 29.08     3.58      6.81      0.77         40.24         nan             \n",
       "2 15.68     12.76     3.79      3.29         35.52         82.00           \n",
       "3 15.61     10.93     3.28      2.95         32.77         80.00           \n",
       "4 11.27     8.89      10.22     1.00         31.37         nan             \n",
       "\n",
       "   Critic_Count  User_Score  User_Count Developer Rating  \n",
       "0 51.00         8.00        322.00       Nintendo  E      \n",
       "1 nan           nan         nan          NaN       NaN    \n",
       "2 73.00         8.30        709.00       Nintendo  E      \n",
       "3 73.00         8.00        192.00       Nintendo  E      \n",
       "4 nan           nan         nan          NaN       NaN    "
      ]
     },
     "execution_count": 360,
     "metadata": {},
     "output_type": "execute_result"
    }
   ],
   "source": [
    "df.head()"
   ]
  },
  {
   "cell_type": "code",
   "execution_count": 366,
   "metadata": {},
   "outputs": [
    {
     "data": {
      "text/html": [
       "<div>\n",
       "<style scoped>\n",
       "    .dataframe tbody tr th:only-of-type {\n",
       "        vertical-align: middle;\n",
       "    }\n",
       "\n",
       "    .dataframe tbody tr th {\n",
       "        vertical-align: top;\n",
       "    }\n",
       "\n",
       "    .dataframe thead th {\n",
       "        text-align: right;\n",
       "    }\n",
       "</style>\n",
       "<table border=\"1\" class=\"dataframe\">\n",
       "  <thead>\n",
       "    <tr style=\"text-align: right;\">\n",
       "      <th></th>\n",
       "      <th>Name</th>\n",
       "    </tr>\n",
       "    <tr>\n",
       "      <th>Genre</th>\n",
       "      <th></th>\n",
       "    </tr>\n",
       "  </thead>\n",
       "  <tbody>\n",
       "    <tr>\n",
       "      <th>Action</th>\n",
       "      <td>3370</td>\n",
       "    </tr>\n",
       "    <tr>\n",
       "      <th>Adventure</th>\n",
       "      <td>1303</td>\n",
       "    </tr>\n",
       "    <tr>\n",
       "      <th>Fighting</th>\n",
       "      <td>849</td>\n",
       "    </tr>\n",
       "    <tr>\n",
       "      <th>Misc</th>\n",
       "      <td>1750</td>\n",
       "    </tr>\n",
       "    <tr>\n",
       "      <th>Platform</th>\n",
       "      <td>888</td>\n",
       "    </tr>\n",
       "    <tr>\n",
       "      <th>Puzzle</th>\n",
       "      <td>580</td>\n",
       "    </tr>\n",
       "    <tr>\n",
       "      <th>Racing</th>\n",
       "      <td>1249</td>\n",
       "    </tr>\n",
       "    <tr>\n",
       "      <th>Role-Playing</th>\n",
       "      <td>1500</td>\n",
       "    </tr>\n",
       "    <tr>\n",
       "      <th>Shooter</th>\n",
       "      <td>1323</td>\n",
       "    </tr>\n",
       "    <tr>\n",
       "      <th>Simulation</th>\n",
       "      <td>874</td>\n",
       "    </tr>\n",
       "    <tr>\n",
       "      <th>Sports</th>\n",
       "      <td>2348</td>\n",
       "    </tr>\n",
       "    <tr>\n",
       "      <th>Strategy</th>\n",
       "      <td>683</td>\n",
       "    </tr>\n",
       "  </tbody>\n",
       "</table>\n",
       "</div>"
      ],
      "text/plain": [
       "              Name\n",
       "Genre             \n",
       "Action        3370\n",
       "Adventure     1303\n",
       "Fighting      849 \n",
       "Misc          1750\n",
       "Platform      888 \n",
       "Puzzle        580 \n",
       "Racing        1249\n",
       "Role-Playing  1500\n",
       "Shooter       1323\n",
       "Simulation    874 \n",
       "Sports        2348\n",
       "Strategy      683 "
      ]
     },
     "execution_count": 366,
     "metadata": {},
     "output_type": "execute_result"
    }
   ],
   "source": [
    "df.groupby('Genre')[['Name']].count()"
   ]
  },
  {
   "cell_type": "markdown",
   "metadata": {},
   "source": [
    "(b) Temos duplicados nesses dados? E nulos?"
   ]
  },
  {
   "cell_type": "code",
   "execution_count": 381,
   "metadata": {},
   "outputs": [
    {
     "data": {
      "text/plain": [
       "Name               2   \n",
       "Platform           0   \n",
       "Year_of_Release    269 \n",
       "Genre              2   \n",
       "Publisher          54  \n",
       "NA_Sales           0   \n",
       "EU_Sales           0   \n",
       "JP_Sales           0   \n",
       "Other_Sales        0   \n",
       "Global_Sales       0   \n",
       "Critic_Score       8582\n",
       "Critic_Count       8582\n",
       "User_Score         9129\n",
       "User_Count         9129\n",
       "Developer          6623\n",
       "Rating             6769\n",
       "dtype: int64"
      ]
     },
     "execution_count": 381,
     "metadata": {},
     "output_type": "execute_result"
    }
   ],
   "source": [
    "df.isna().sum()"
   ]
  },
  {
   "cell_type": "code",
   "execution_count": 380,
   "metadata": {},
   "outputs": [
    {
     "data": {
      "text/plain": [
       "Name               16717\n",
       "Platform           16719\n",
       "Year_of_Release    16450\n",
       "Genre              16717\n",
       "Publisher          16665\n",
       "NA_Sales           16719\n",
       "EU_Sales           16719\n",
       "JP_Sales           16719\n",
       "Other_Sales        16719\n",
       "Global_Sales       16719\n",
       "Critic_Score       8137 \n",
       "Critic_Count       8137 \n",
       "User_Score         7590 \n",
       "User_Count         7590 \n",
       "Developer          10096\n",
       "Rating             9950 \n",
       "dtype: int64"
      ]
     },
     "execution_count": 380,
     "metadata": {},
     "output_type": "execute_result"
    }
   ],
   "source": [
    "df.notnull().sum()"
   ]
  },
  {
   "cell_type": "code",
   "execution_count": 378,
   "metadata": {},
   "outputs": [
    {
     "data": {
      "text/plain": [
       "Name               2   \n",
       "Platform           0   \n",
       "Year_of_Release    269 \n",
       "Genre              2   \n",
       "Publisher          54  \n",
       "NA_Sales           0   \n",
       "EU_Sales           0   \n",
       "JP_Sales           0   \n",
       "Other_Sales        0   \n",
       "Global_Sales       0   \n",
       "Critic_Score       8582\n",
       "Critic_Count       8582\n",
       "User_Score         9129\n",
       "User_Count         9129\n",
       "Developer          6623\n",
       "Rating             6769\n",
       "dtype: int64"
      ]
     },
     "execution_count": 378,
     "metadata": {},
     "output_type": "execute_result"
    }
   ],
   "source": [
    "df.isnull().sum()"
   ]
  },
  {
   "cell_type": "code",
   "execution_count": 376,
   "metadata": {},
   "outputs": [
    {
     "data": {
      "text/plain": [
       "0"
      ]
     },
     "execution_count": 376,
     "metadata": {},
     "output_type": "execute_result"
    }
   ],
   "source": [
    "df.duplicated().sum()"
   ]
  },
  {
   "cell_type": "markdown",
   "metadata": {},
   "source": [
    "(b) Quantos jogos de cada publisher receberam nota acima de 9 na avaliação dos usuarios?"
   ]
  },
  {
   "cell_type": "code",
   "execution_count": 395,
   "metadata": {},
   "outputs": [
    {
     "data": {
      "text/plain": [
       "Name               0  \n",
       "Platform           0  \n",
       "Year_of_Release    0  \n",
       "Genre              0  \n",
       "Publisher          0  \n",
       "NA_Sales           0  \n",
       "EU_Sales           0  \n",
       "JP_Sales           0  \n",
       "Other_Sales        0  \n",
       "Global_Sales       0  \n",
       "Critic_Score       0  \n",
       "Critic_Count       0  \n",
       "User_Score         184\n",
       "User_Count         0  \n",
       "Developer          0  \n",
       "Rating             0  \n",
       "dtype: int64"
      ]
     },
     "execution_count": 395,
     "metadata": {},
     "output_type": "execute_result"
    }
   ],
   "source": [
    "df[df[['User_Score']] > 9].count()"
   ]
  },
  {
   "cell_type": "markdown",
   "metadata": {},
   "source": [
    "\n",
    "(c) Faça uma tabela que mostre o total vendido por ano por pais/globalmente de cada publisher? Você consegue observar algum padrão? Com se comportaram as vendas na América do Norte (NA) ao longo do tempo? O mesmo foi visto nos demais lugares? \n"
   ]
  },
  {
   "cell_type": "code",
   "execution_count": null,
   "metadata": {},
   "outputs": [],
   "source": []
  },
  {
   "cell_type": "markdown",
   "metadata": {},
   "source": [
    "\n",
    "(d) Qual foi jogo mais vendido na união européia? De que ano ele é e qual a editora?\n"
   ]
  },
  {
   "cell_type": "code",
   "execution_count": null,
   "metadata": {},
   "outputs": [],
   "source": []
  },
  {
   "cell_type": "markdown",
   "metadata": {},
   "source": [
    "\n",
    "(e) Quantos % os generos ['Racing', 'Sports', 'Shooter'] representam na base de dados? "
   ]
  },
  {
   "cell_type": "code",
   "execution_count": null,
   "metadata": {},
   "outputs": [],
   "source": []
  },
  {
   "cell_type": "markdown",
   "metadata": {},
   "source": [
    "(f) Qual plataforma vendeu menos globalmente? obs: imprimir somente o nome"
   ]
  },
  {
   "cell_type": "code",
   "execution_count": null,
   "metadata": {},
   "outputs": [],
   "source": []
  },
  {
   "cell_type": "markdown",
   "metadata": {},
   "source": [
    "### Problema 5\n",
    "A pasta 'data/datasus' contém informações sobre casos de dengue e tabelas auxiliares. <br>\n",
    "\n",
    "| Tabela | Conteúdo |\n",
    "|--------|----------|\n",
    "| Dengue | Quantidade de casos por município |\n",
    "| Agua | Quantidade de residências em cada município por tipo o abastecimento de água |\n",
    "| InstalacoesSanitarias | Quantidade de residências em cada município por tipo de rede de esgoto |\n",
    "| Pib | PIB per capita de cada município |\n",
    "| Municipios | Relaciona o id_municipio com seu nome e estado |\n",
    "| Populacao | Quantidade de pessoas morando em áreas urbanas, rurais e população total por município |\n",
    "| Sexo | Quantidade de pessoas por sexo em cada município |\n",
    "\n",
    "(a) Calcular o número de casos de dengue por cada estado apresentando os dados em ordem decrescente.\n"
   ]
  },
  {
   "cell_type": "code",
   "execution_count": null,
   "metadata": {},
   "outputs": [],
   "source": []
  },
  {
   "cell_type": "markdown",
   "metadata": {},
   "source": [
    "(b) Utilizando o dataset InstalacoesSanitarias.csv, determine o número de pessoas que não possuem meio sanitário algum de descarte de dejetos por estado."
   ]
  },
  {
   "cell_type": "code",
   "execution_count": null,
   "metadata": {},
   "outputs": [],
   "source": []
  },
  {
   "cell_type": "markdown",
   "metadata": {},
   "source": [
    "(c) Crie uma coluna com a posição de ranking considerando o PIB. Os maiores PIB devem ter os menores valores de ranking."
   ]
  },
  {
   "cell_type": "code",
   "execution_count": null,
   "metadata": {},
   "outputs": [],
   "source": []
  },
  {
   "cell_type": "markdown",
   "metadata": {},
   "source": [
    "(d) Qual o PIB dos 5 municípios com mais casos de dengue e sua posição no ranking?"
   ]
  },
  {
   "cell_type": "code",
   "execution_count": null,
   "metadata": {},
   "outputs": [],
   "source": []
  }
 ],
 "metadata": {
  "kernelspec": {
   "display_name": "Python 3",
   "language": "python",
   "name": "python3"
  },
  "language_info": {
   "codemirror_mode": {
    "name": "ipython",
    "version": 3
   },
   "file_extension": ".py",
   "mimetype": "text/x-python",
   "name": "python",
   "nbconvert_exporter": "python",
   "pygments_lexer": "ipython3",
   "version": "3.8.5"
  }
 },
 "nbformat": 4,
 "nbformat_minor": 5
}
